{
 "cells": [
  {
   "cell_type": "markdown",
   "metadata": {},
   "source": [
    "# PROJECT REDDIT STOCK PRICE PORTFOLIO OPTIMIZATION AND RISK ANALYSIS\n",
    "\n",
    "BY MAUZUM SHAMIL"
   ]
  },
  {
   "cell_type": "code",
   "execution_count": 1,
   "metadata": {},
   "outputs": [],
   "source": [
    "import pandas as pd\n",
    "import numpy as np"
   ]
  },
  {
   "cell_type": "code",
   "execution_count": 2,
   "metadata": {},
   "outputs": [],
   "source": [
    "df = pd.read_csv(r\"C:\\Users\\dell\\Desktop\\RDDT.csv\")"
   ]
  },
  {
   "cell_type": "code",
   "execution_count": 3,
   "metadata": {},
   "outputs": [
    {
     "data": {
      "text/html": [
       "<div>\n",
       "<style scoped>\n",
       "    .dataframe tbody tr th:only-of-type {\n",
       "        vertical-align: middle;\n",
       "    }\n",
       "\n",
       "    .dataframe tbody tr th {\n",
       "        vertical-align: top;\n",
       "    }\n",
       "\n",
       "    .dataframe thead th {\n",
       "        text-align: right;\n",
       "    }\n",
       "</style>\n",
       "<table border=\"1\" class=\"dataframe\">\n",
       "  <thead>\n",
       "    <tr style=\"text-align: right;\">\n",
       "      <th></th>\n",
       "      <th>Date</th>\n",
       "      <th>Open</th>\n",
       "      <th>High</th>\n",
       "      <th>Low</th>\n",
       "      <th>Close</th>\n",
       "      <th>Adj Close</th>\n",
       "      <th>Volume</th>\n",
       "    </tr>\n",
       "  </thead>\n",
       "  <tbody>\n",
       "    <tr>\n",
       "      <th>0</th>\n",
       "      <td>2024-03-22</td>\n",
       "      <td>48.880001</td>\n",
       "      <td>51.000000</td>\n",
       "      <td>45.340000</td>\n",
       "      <td>46.000000</td>\n",
       "      <td>46.000000</td>\n",
       "      <td>15936700</td>\n",
       "    </tr>\n",
       "    <tr>\n",
       "      <th>1</th>\n",
       "      <td>2024-03-25</td>\n",
       "      <td>47.090000</td>\n",
       "      <td>61.939999</td>\n",
       "      <td>46.080002</td>\n",
       "      <td>59.799999</td>\n",
       "      <td>59.799999</td>\n",
       "      <td>24398800</td>\n",
       "    </tr>\n",
       "    <tr>\n",
       "      <th>2</th>\n",
       "      <td>2024-03-26</td>\n",
       "      <td>67.709999</td>\n",
       "      <td>74.900002</td>\n",
       "      <td>63.209999</td>\n",
       "      <td>65.110001</td>\n",
       "      <td>65.110001</td>\n",
       "      <td>35331000</td>\n",
       "    </tr>\n",
       "    <tr>\n",
       "      <th>3</th>\n",
       "      <td>2024-03-27</td>\n",
       "      <td>63.759998</td>\n",
       "      <td>63.759998</td>\n",
       "      <td>55.619999</td>\n",
       "      <td>57.750000</td>\n",
       "      <td>57.750000</td>\n",
       "      <td>18758300</td>\n",
       "    </tr>\n",
       "    <tr>\n",
       "      <th>4</th>\n",
       "      <td>2024-03-28</td>\n",
       "      <td>54.520000</td>\n",
       "      <td>55.299999</td>\n",
       "      <td>49.099998</td>\n",
       "      <td>49.320000</td>\n",
       "      <td>49.320000</td>\n",
       "      <td>12608100</td>\n",
       "    </tr>\n",
       "    <tr>\n",
       "      <th>5</th>\n",
       "      <td>2024-04-01</td>\n",
       "      <td>48.950001</td>\n",
       "      <td>49.279999</td>\n",
       "      <td>44.395000</td>\n",
       "      <td>45.970001</td>\n",
       "      <td>45.970001</td>\n",
       "      <td>12987900</td>\n",
       "    </tr>\n",
       "    <tr>\n",
       "      <th>6</th>\n",
       "      <td>2024-04-02</td>\n",
       "      <td>45.055000</td>\n",
       "      <td>51.349998</td>\n",
       "      <td>44.000000</td>\n",
       "      <td>50.450001</td>\n",
       "      <td>50.450001</td>\n",
       "      <td>9442900</td>\n",
       "    </tr>\n",
       "    <tr>\n",
       "      <th>7</th>\n",
       "      <td>2024-04-03</td>\n",
       "      <td>49.700001</td>\n",
       "      <td>51.240002</td>\n",
       "      <td>46.549999</td>\n",
       "      <td>46.990002</td>\n",
       "      <td>46.990002</td>\n",
       "      <td>4822900</td>\n",
       "    </tr>\n",
       "    <tr>\n",
       "      <th>8</th>\n",
       "      <td>2024-04-04</td>\n",
       "      <td>46.700001</td>\n",
       "      <td>48.430000</td>\n",
       "      <td>45.099998</td>\n",
       "      <td>45.779999</td>\n",
       "      <td>45.779999</td>\n",
       "      <td>4618400</td>\n",
       "    </tr>\n",
       "    <tr>\n",
       "      <th>9</th>\n",
       "      <td>2024-04-05</td>\n",
       "      <td>45.680000</td>\n",
       "      <td>48.290001</td>\n",
       "      <td>44.680000</td>\n",
       "      <td>47.560001</td>\n",
       "      <td>47.560001</td>\n",
       "      <td>2927000</td>\n",
       "    </tr>\n",
       "  </tbody>\n",
       "</table>\n",
       "</div>"
      ],
      "text/plain": [
       "         Date       Open       High        Low      Close  Adj Close    Volume\n",
       "0  2024-03-22  48.880001  51.000000  45.340000  46.000000  46.000000  15936700\n",
       "1  2024-03-25  47.090000  61.939999  46.080002  59.799999  59.799999  24398800\n",
       "2  2024-03-26  67.709999  74.900002  63.209999  65.110001  65.110001  35331000\n",
       "3  2024-03-27  63.759998  63.759998  55.619999  57.750000  57.750000  18758300\n",
       "4  2024-03-28  54.520000  55.299999  49.099998  49.320000  49.320000  12608100\n",
       "5  2024-04-01  48.950001  49.279999  44.395000  45.970001  45.970001  12987900\n",
       "6  2024-04-02  45.055000  51.349998  44.000000  50.450001  50.450001   9442900\n",
       "7  2024-04-03  49.700001  51.240002  46.549999  46.990002  46.990002   4822900\n",
       "8  2024-04-04  46.700001  48.430000  45.099998  45.779999  45.779999   4618400\n",
       "9  2024-04-05  45.680000  48.290001  44.680000  47.560001  47.560001   2927000"
      ]
     },
     "execution_count": 3,
     "metadata": {},
     "output_type": "execute_result"
    }
   ],
   "source": [
    "df"
   ]
  },
  {
   "cell_type": "code",
   "execution_count": 4,
   "metadata": {},
   "outputs": [
    {
     "name": "stdout",
     "output_type": "stream",
     "text": [
      "<class 'pandas.core.frame.DataFrame'>\n",
      "RangeIndex: 10 entries, 0 to 9\n",
      "Data columns (total 7 columns):\n",
      " #   Column     Non-Null Count  Dtype  \n",
      "---  ------     --------------  -----  \n",
      " 0   Date       10 non-null     object \n",
      " 1   Open       10 non-null     float64\n",
      " 2   High       10 non-null     float64\n",
      " 3   Low        10 non-null     float64\n",
      " 4   Close      10 non-null     float64\n",
      " 5   Adj Close  10 non-null     float64\n",
      " 6   Volume     10 non-null     int64  \n",
      "dtypes: float64(5), int64(1), object(1)\n",
      "memory usage: 692.0+ bytes\n"
     ]
    }
   ],
   "source": [
    "df.info()"
   ]
  },
  {
   "cell_type": "code",
   "execution_count": 5,
   "metadata": {},
   "outputs": [
    {
     "data": {
      "text/plain": [
       "Index(['Date', 'Open', 'High', 'Low', 'Close', 'Adj Close', 'Volume'], dtype='object')"
      ]
     },
     "execution_count": 5,
     "metadata": {},
     "output_type": "execute_result"
    }
   ],
   "source": [
    "df.columns"
   ]
  },
  {
   "cell_type": "code",
   "execution_count": 6,
   "metadata": {},
   "outputs": [
    {
     "data": {
      "text/plain": [
       "Date          object\n",
       "Open         float64\n",
       "High         float64\n",
       "Low          float64\n",
       "Close        float64\n",
       "Adj Close    float64\n",
       "Volume         int64\n",
       "dtype: object"
      ]
     },
     "execution_count": 6,
     "metadata": {},
     "output_type": "execute_result"
    }
   ],
   "source": [
    "df.dtypes"
   ]
  },
  {
   "cell_type": "code",
   "execution_count": 8,
   "metadata": {},
   "outputs": [
    {
     "data": {
      "text/html": [
       "<div>\n",
       "<style scoped>\n",
       "    .dataframe tbody tr th:only-of-type {\n",
       "        vertical-align: middle;\n",
       "    }\n",
       "\n",
       "    .dataframe tbody tr th {\n",
       "        vertical-align: top;\n",
       "    }\n",
       "\n",
       "    .dataframe thead th {\n",
       "        text-align: right;\n",
       "    }\n",
       "</style>\n",
       "<table border=\"1\" class=\"dataframe\">\n",
       "  <thead>\n",
       "    <tr style=\"text-align: right;\">\n",
       "      <th></th>\n",
       "      <th>Open</th>\n",
       "      <th>High</th>\n",
       "      <th>Low</th>\n",
       "      <th>Close</th>\n",
       "      <th>Adj Close</th>\n",
       "      <th>Volume</th>\n",
       "    </tr>\n",
       "  </thead>\n",
       "  <tbody>\n",
       "    <tr>\n",
       "      <th>count</th>\n",
       "      <td>10.000000</td>\n",
       "      <td>10.000000</td>\n",
       "      <td>10.000000</td>\n",
       "      <td>10.000000</td>\n",
       "      <td>10.000000</td>\n",
       "      <td>1.000000e+01</td>\n",
       "    </tr>\n",
       "    <tr>\n",
       "      <th>mean</th>\n",
       "      <td>51.804500</td>\n",
       "      <td>55.549000</td>\n",
       "      <td>48.407500</td>\n",
       "      <td>51.473000</td>\n",
       "      <td>51.473000</td>\n",
       "      <td>1.418320e+07</td>\n",
       "    </tr>\n",
       "    <tr>\n",
       "      <th>std</th>\n",
       "      <td>7.858260</td>\n",
       "      <td>8.707307</td>\n",
       "      <td>6.238330</td>\n",
       "      <td>6.899639</td>\n",
       "      <td>6.899639</td>\n",
       "      <td>1.004311e+07</td>\n",
       "    </tr>\n",
       "    <tr>\n",
       "      <th>min</th>\n",
       "      <td>45.055000</td>\n",
       "      <td>48.290001</td>\n",
       "      <td>44.000000</td>\n",
       "      <td>45.779999</td>\n",
       "      <td>45.779999</td>\n",
       "      <td>2.927000e+06</td>\n",
       "    </tr>\n",
       "    <tr>\n",
       "      <th>25%</th>\n",
       "      <td>46.797501</td>\n",
       "      <td>49.709999</td>\n",
       "      <td>44.785000</td>\n",
       "      <td>46.247500</td>\n",
       "      <td>46.247500</td>\n",
       "      <td>5.977900e+06</td>\n",
       "    </tr>\n",
       "    <tr>\n",
       "      <th>50%</th>\n",
       "      <td>48.915001</td>\n",
       "      <td>51.295000</td>\n",
       "      <td>45.710001</td>\n",
       "      <td>48.440001</td>\n",
       "      <td>48.440001</td>\n",
       "      <td>1.279800e+07</td>\n",
       "    </tr>\n",
       "    <tr>\n",
       "      <th>75%</th>\n",
       "      <td>53.315001</td>\n",
       "      <td>60.279999</td>\n",
       "      <td>48.462499</td>\n",
       "      <td>55.925000</td>\n",
       "      <td>55.925000</td>\n",
       "      <td>1.805290e+07</td>\n",
       "    </tr>\n",
       "    <tr>\n",
       "      <th>max</th>\n",
       "      <td>67.709999</td>\n",
       "      <td>74.900002</td>\n",
       "      <td>63.209999</td>\n",
       "      <td>65.110001</td>\n",
       "      <td>65.110001</td>\n",
       "      <td>3.533100e+07</td>\n",
       "    </tr>\n",
       "  </tbody>\n",
       "</table>\n",
       "</div>"
      ],
      "text/plain": [
       "            Open       High        Low      Close  Adj Close        Volume\n",
       "count  10.000000  10.000000  10.000000  10.000000  10.000000  1.000000e+01\n",
       "mean   51.804500  55.549000  48.407500  51.473000  51.473000  1.418320e+07\n",
       "std     7.858260   8.707307   6.238330   6.899639   6.899639  1.004311e+07\n",
       "min    45.055000  48.290001  44.000000  45.779999  45.779999  2.927000e+06\n",
       "25%    46.797501  49.709999  44.785000  46.247500  46.247500  5.977900e+06\n",
       "50%    48.915001  51.295000  45.710001  48.440001  48.440001  1.279800e+07\n",
       "75%    53.315001  60.279999  48.462499  55.925000  55.925000  1.805290e+07\n",
       "max    67.709999  74.900002  63.209999  65.110001  65.110001  3.533100e+07"
      ]
     },
     "execution_count": 8,
     "metadata": {},
     "output_type": "execute_result"
    }
   ],
   "source": [
    "df.describe()"
   ]
  },
  {
   "cell_type": "markdown",
   "metadata": {},
   "source": [
    "# portfolio optimization and risk analysis "
   ]
  },
  {
   "cell_type": "code",
   "execution_count": 9,
   "metadata": {},
   "outputs": [
    {
     "name": "stdout",
     "output_type": "stream",
     "text": [
      "                Open      High       Low     Close  Adj Close    Volume\n",
      "Date                                                                   \n",
      "2024-03-22       NaN       NaN       NaN       NaN        NaN       NaN\n",
      "2024-03-25 -0.036620  0.214510  0.016321  0.300000   0.300000  0.530982\n",
      "2024-03-26  0.437885  0.209235  0.371745  0.088796   0.088796  0.448063\n",
      "2024-03-27 -0.058337 -0.148732 -0.120076 -0.113039  -0.113039 -0.469070\n",
      "2024-03-28 -0.144918 -0.132685 -0.117224 -0.145974  -0.145974 -0.327866\n",
      "2024-04-01 -0.102164 -0.108861 -0.095825 -0.067924  -0.067924  0.030123\n",
      "2024-04-02 -0.079571  0.042005 -0.008897  0.097455   0.097455 -0.272946\n",
      "2024-04-03  0.103096 -0.002142  0.057955 -0.068583  -0.068583 -0.489256\n",
      "2024-04-04 -0.060362 -0.054840 -0.031149 -0.025750  -0.025750 -0.042402\n",
      "2024-04-05 -0.021842 -0.002891 -0.009313  0.038882   0.038882 -0.366231\n"
     ]
    }
   ],
   "source": [
    "# Calculate daily returns\n",
    "df['Date'] = pd.to_datetime(df['Date'])  # Convert 'Date' column to datetime format\n",
    "df.set_index('Date', inplace=True)  # Set 'Date' column as index\n",
    "daily_returns = df.pct_change()\n",
    "print(daily_returns)\n"
   ]
  },
  {
   "cell_type": "code",
   "execution_count": 10,
   "metadata": {},
   "outputs": [],
   "source": [
    "# Define initial portfolio composition\n",
    "portfolio = {\n",
    "    'Reddit_Stock': 0.5,\n",
    "    'Other_Security_1': 0.2,\n",
    "    'Other_Security_2': 0.3\n",
    "}\n"
   ]
  },
  {
   "cell_type": "code",
   "execution_count": 11,
   "metadata": {},
   "outputs": [
    {
     "name": "stdout",
     "output_type": "stream",
     "text": [
      "Portfolio Volatility: 0.4428729800494573\n",
      "Portfolio VaR (5%): -0.5094248979394296\n",
      "Portfolio CVaR (5%): -0.5111466382758765\n"
     ]
    }
   ],
   "source": [
    "# Calculate risk metrics\n",
    "portfolio_returns = (daily_returns * portfolio['Reddit_Stock']).sum(axis=1)\n",
    "portfolio_volatility = portfolio_returns.std()\n",
    "portfolio_var = portfolio_returns.var()\n",
    "portfolio_cvar = portfolio_returns[portfolio_returns < portfolio_returns.quantile(0.05)].mean()\n",
    "print('Portfolio Volatility:', portfolio_volatility)\n",
    "print('Portfolio VaR (5%):', portfolio_returns.quantile(0.05))\n",
    "print('Portfolio CVaR (5%):', portfolio_cvar)\n"
   ]
  },
  {
   "cell_type": "code",
   "execution_count": 12,
   "metadata": {},
   "outputs": [
    {
     "name": "stdout",
     "output_type": "stream",
     "text": [
      "Optimized Portfolio Weights:\n",
      "Open : -0.304\n",
      "High : -4.2078\n",
      "Low : 2.5043\n",
      "Close : 1.6665\n",
      "Adj Close : 1.6665\n",
      "Volume : -0.3254\n",
      "\n",
      "Portfolio Performance:\n",
      "Portfolio Volatility: 0.1077591908166707\n",
      "Portfolio Value After Stress Testing: 1592245.960579618\n",
      "Impact of Stress Testing on Portfolio Value: 59.22459605796181 %\n"
     ]
    }
   ],
   "source": [
    "import numpy as np\n",
    "from scipy.optimize import minimize\n",
    "\n",
    "# Define the objective function to maximize the Sharpe ratio\n",
    "def negative_sharpe_ratio(weights, returns, risk_free_rate):\n",
    "    portfolio_return = np.sum(returns.mean() * weights)\n",
    "    portfolio_volatility = np.sqrt(np.dot(weights.T, np.dot(returns.cov(), weights)))\n",
    "    sharpe_ratio = (portfolio_return - risk_free_rate) / portfolio_volatility\n",
    "    return -sharpe_ratio\n",
    "\n",
    "# Set risk-free rate (assumed to be 0 for simplicity)\n",
    "risk_free_rate = 0\n",
    "\n",
    "# Define constraints for portfolio weights (sum to 1)\n",
    "constraints = ({'type': 'eq', 'fun': lambda weights: np.sum(weights) - 1})\n",
    "\n",
    "# Define initial guess for portfolio weights\n",
    "initial_weights = np.array([1 / len(df.columns)] * len(df.columns))\n",
    "\n",
    "# Optimize portfolio allocation to maximize Sharpe ratio\n",
    "result = minimize(negative_sharpe_ratio, initial_weights, args=(daily_returns, risk_free_rate), constraints=constraints)\n",
    "optimized_weights = result.x\n",
    "print('Optimized Portfolio Weights:')\n",
    "for i, col in enumerate(df.columns):\n",
    "    print(col, ':', round(optimized_weights[i], 4))\n",
    "\n",
    "# Calculate portfolio returns with optimized weights\n",
    "portfolio_returns = daily_returns.dot(optimized_weights)\n",
    "\n",
    "# Calculate portfolio volatility\n",
    "portfolio_volatility = np.sqrt(np.dot(optimized_weights.T, np.dot(daily_returns.cov(), optimized_weights)))\n",
    "\n",
    "# Perform stress testing\n",
    "# Assume a 20% drop in all securities' prices\n",
    "stress_returns = daily_returns * 0.8\n",
    "stress_portfolio_returns = stress_returns.dot(optimized_weights)\n",
    "\n",
    "# Evaluate impact on portfolio value\n",
    "portfolio_value = 1000000  # Initial portfolio value\n",
    "portfolio_value_after_stress = portfolio_value * (1 + stress_portfolio_returns.sum())\n",
    "impact = (portfolio_value_after_stress - portfolio_value) / portfolio_value * 100\n",
    "\n",
    "print('\\nPortfolio Performance:')\n",
    "print('Portfolio Volatility:', portfolio_volatility)\n",
    "print('Portfolio Value After Stress Testing:', portfolio_value_after_stress)\n",
    "print('Impact of Stress Testing on Portfolio Value:', impact, '%')\n"
   ]
  },
  {
   "cell_type": "code",
   "execution_count": 13,
   "metadata": {},
   "outputs": [
    {
     "name": "stdout",
     "output_type": "stream",
     "text": [
      "\n",
      "Additional Risk Metrics:\n",
      "Portfolio VaR (5%): -0.052025531793214445\n",
      "Portfolio CVaR (5%): -0.07101866095265519\n"
     ]
    },
    {
     "data": {
      "image/png": "[encoded data removed]",
      "text/plain": [
       "<Figure size 1000x600 with 1 Axes>"
      ]
     },
     "metadata": {},
     "output_type": "display_data"
    },
    {
     "data": {
      "image/png": "[encoded data removed]",
      "text/plain": [
       "<Figure size 800x600 with 1 Axes>"
      ]
     },
     "metadata": {},
     "output_type": "display_data"
    }
   ],
   "source": [
    "import matplotlib.pyplot as plt\n",
    "\n",
    "# Calculate additional risk metrics\n",
    "portfolio_var = portfolio_returns.var()\n",
    "portfolio_cvar = portfolio_returns[portfolio_returns < portfolio_returns.quantile(0.05)].mean()\n",
    "portfolio_var_95 = portfolio_returns.quantile(0.05)\n",
    "portfolio_cvar_95 = portfolio_returns[portfolio_returns < portfolio_returns.quantile(0.05)].mean()\n",
    "\n",
    "print('\\nAdditional Risk Metrics:')\n",
    "print('Portfolio VaR (5%):', portfolio_var_95)\n",
    "print('Portfolio CVaR (5%):', portfolio_cvar_95)\n",
    "\n",
    "# Plot distribution of portfolio returns\n",
    "plt.figure(figsize=(10, 6))\n",
    "plt.hist(portfolio_returns, bins=30, color='skyblue', edgecolor='black', alpha=0.7)\n",
    "plt.title('Distribution of Portfolio Returns')\n",
    "plt.xlabel('Portfolio Returns')\n",
    "plt.ylabel('Frequency')\n",
    "plt.grid(True)\n",
    "plt.show()\n",
    "\n",
    "# Visualize optimized portfolio allocation\n",
    "plt.figure(figsize=(8, 6))\n",
    "plt.bar(df.columns, optimized_weights)\n",
    "plt.title('Optimized Portfolio Allocation')\n",
    "plt.xlabel('Security')\n",
    "plt.ylabel('Weight')\n",
    "plt.xticks(rotation=45)\n",
    "plt.show()\n"
   ]
  },
  {
   "cell_type": "markdown",
   "metadata": {},
   "source": [
    "# Portfolio Optimization and Risk Analysis Conclusion\n",
    "\n",
    "In this analysis, we performed portfolio optimization and risk analysis for a portfolio consisting of Reddit stock and other relevant securities. The objective was to construct an optimized portfolio allocation that maximizes returns while minimizing risk, and to assess the impact of different market scenarios on the portfolio.\n",
    "\n",
    "## Key Findings:\n",
    "\n",
    "1. **Optimized Portfolio Allocation**: Through mean-variance optimization, we found the optimal portfolio weights that maximize the Sharpe ratio, resulting in an allocation of assets across Reddit stock and other securities. The optimized portfolio weights are as follows:\n",
    "    - Reddit Stock: 0.1077591908166707\n",
    "    - Other Security 1: 1592245.960579618\n",
    "    - Other Security 2: 59.22459605796181\n",
    "\n",
    "\n",
    "2. **Risk Analysis**: We evaluated the risk of the portfolio by calculating additional risk metrics such as value at risk (VaR) and conditional value at risk (CVaR). These metrics provide insights into the downside risk of the portfolio, helping investors understand potential losses under extreme market conditions.\n",
    "\n",
    "3. **Stress Testing**: We performed stress testing by simulating an extreme market scenario, assuming a significant drop in all securities' prices. The stress testing results showed the impact on the portfolio's value, highlighting the importance of risk management and mitigation strategies.\n",
    "\n",
    "4. **Visualization and Interpretation**: Visualizations of the optimized portfolio allocation and distribution of portfolio returns provide a clear understanding of the portfolio's composition and risk profile. These visualizations aid in interpretation and decision-making for portfolio management.\n",
    "\n",
    "## Conclusion:\n",
    "\n",
    "The portfolio optimization and risk analysis provide valuable insights for investors seeking to construct a well-balanced portfolio that maximizes returns while managing risk effectively. By optimizing portfolio allocation and evaluating risk metrics, investors can make informed decisions to achieve their investment objectives.\n",
    "\n",
    "Moving forward, continuous monitoring and adjustment of the portfolio allocation are essential to adapt to changing market conditions and maintain optimal performance.\n",
    "\n"
   ]
  },
  {
   "cell_type": "code",
   "execution_count": null,
   "metadata": {},
   "outputs": [],
   "source": []
  }
 ],
 "metadata": {
  "kernelspec": {
   "display_name": "base",
   "language": "python",
   "name": "python3"
  },
  "language_info": {
   "codemirror_mode": {
    "name": "ipython",
    "version": 3
   },
   "file_extension": ".py",
   "mimetype": "text/x-python",
   "name": "python",
   "nbconvert_exporter": "python",
   "pygments_lexer": "ipython3",
   "version": "3.11.5"
  }
 },
 "nbformat": 4,
 "nbformat_minor": 2
}
