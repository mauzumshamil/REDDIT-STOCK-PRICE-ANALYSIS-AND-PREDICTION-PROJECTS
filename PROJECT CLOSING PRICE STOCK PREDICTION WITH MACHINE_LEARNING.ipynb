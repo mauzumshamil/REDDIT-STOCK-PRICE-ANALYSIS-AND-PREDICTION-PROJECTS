{
 "cells": [
  {
   "cell_type": "markdown",
   "metadata": {},
   "source": [
    "# PROJECT REDDIT CLOSING PRICE STOCK PREDICTION \n",
    "\n",
    "MACHINE LEARNING PROJECT BY MAUZUM SHAMIL"
   ]
  },
  {
   "cell_type": "code",
   "execution_count": 1,
   "metadata": {},
   "outputs": [],
   "source": [
    "import numpy as np\n",
    "import pandas as pd\n",
    "import matplotlib.pyplot as plt\n",
    "import seaborn as sns"
   ]
  },
  {
   "cell_type": "code",
   "execution_count": 17,
   "metadata": {},
   "outputs": [],
   "source": [
    "from sklearn.metrics import mean_squared_error,r2_score"
   ]
  },
  {
   "cell_type": "markdown",
   "metadata": {},
   "source": [
    "# importing and preprocessing"
   ]
  },
  {
   "cell_type": "code",
   "execution_count": 2,
   "metadata": {},
   "outputs": [],
   "source": [
    "df = pd.read_csv(r\"C:\\Users\\dell\\Desktop\\RDDT.csv\")"
   ]
  },
  {
   "cell_type": "code",
   "execution_count": 3,
   "metadata": {},
   "outputs": [
    {
     "data": {
      "text/html": [
       "<div>\n",
       "<style scoped>\n",
       "    .dataframe tbody tr th:only-of-type {\n",
       "        vertical-align: middle;\n",
       "    }\n",
       "\n",
       "    .dataframe tbody tr th {\n",
       "        vertical-align: top;\n",
       "    }\n",
       "\n",
       "    .dataframe thead th {\n",
       "        text-align: right;\n",
       "    }\n",
       "</style>\n",
       "<table border=\"1\" class=\"dataframe\">\n",
       "  <thead>\n",
       "    <tr style=\"text-align: right;\">\n",
       "      <th></th>\n",
       "      <th>Date</th>\n",
       "      <th>Open</th>\n",
       "      <th>High</th>\n",
       "      <th>Low</th>\n",
       "      <th>Close</th>\n",
       "      <th>Adj Close</th>\n",
       "      <th>Volume</th>\n",
       "    </tr>\n",
       "  </thead>\n",
       "  <tbody>\n",
       "    <tr>\n",
       "      <th>0</th>\n",
       "      <td>2024-03-22</td>\n",
       "      <td>48.880001</td>\n",
       "      <td>51.000000</td>\n",
       "      <td>45.340000</td>\n",
       "      <td>46.000000</td>\n",
       "      <td>46.000000</td>\n",
       "      <td>15936700</td>\n",
       "    </tr>\n",
       "    <tr>\n",
       "      <th>1</th>\n",
       "      <td>2024-03-25</td>\n",
       "      <td>47.090000</td>\n",
       "      <td>61.939999</td>\n",
       "      <td>46.080002</td>\n",
       "      <td>59.799999</td>\n",
       "      <td>59.799999</td>\n",
       "      <td>24398800</td>\n",
       "    </tr>\n",
       "    <tr>\n",
       "      <th>2</th>\n",
       "      <td>2024-03-26</td>\n",
       "      <td>67.709999</td>\n",
       "      <td>74.900002</td>\n",
       "      <td>63.209999</td>\n",
       "      <td>65.110001</td>\n",
       "      <td>65.110001</td>\n",
       "      <td>35331000</td>\n",
       "    </tr>\n",
       "    <tr>\n",
       "      <th>3</th>\n",
       "      <td>2024-03-27</td>\n",
       "      <td>63.759998</td>\n",
       "      <td>63.759998</td>\n",
       "      <td>55.619999</td>\n",
       "      <td>57.750000</td>\n",
       "      <td>57.750000</td>\n",
       "      <td>18758300</td>\n",
       "    </tr>\n",
       "    <tr>\n",
       "      <th>4</th>\n",
       "      <td>2024-03-28</td>\n",
       "      <td>54.520000</td>\n",
       "      <td>55.299999</td>\n",
       "      <td>49.099998</td>\n",
       "      <td>49.320000</td>\n",
       "      <td>49.320000</td>\n",
       "      <td>12608100</td>\n",
       "    </tr>\n",
       "    <tr>\n",
       "      <th>5</th>\n",
       "      <td>2024-04-01</td>\n",
       "      <td>48.950001</td>\n",
       "      <td>49.279999</td>\n",
       "      <td>44.395000</td>\n",
       "      <td>45.970001</td>\n",
       "      <td>45.970001</td>\n",
       "      <td>12987900</td>\n",
       "    </tr>\n",
       "    <tr>\n",
       "      <th>6</th>\n",
       "      <td>2024-04-02</td>\n",
       "      <td>45.055000</td>\n",
       "      <td>51.349998</td>\n",
       "      <td>44.000000</td>\n",
       "      <td>50.450001</td>\n",
       "      <td>50.450001</td>\n",
       "      <td>9442900</td>\n",
       "    </tr>\n",
       "    <tr>\n",
       "      <th>7</th>\n",
       "      <td>2024-04-03</td>\n",
       "      <td>49.700001</td>\n",
       "      <td>51.240002</td>\n",
       "      <td>46.549999</td>\n",
       "      <td>46.990002</td>\n",
       "      <td>46.990002</td>\n",
       "      <td>4822900</td>\n",
       "    </tr>\n",
       "    <tr>\n",
       "      <th>8</th>\n",
       "      <td>2024-04-04</td>\n",
       "      <td>46.700001</td>\n",
       "      <td>48.430000</td>\n",
       "      <td>45.099998</td>\n",
       "      <td>45.779999</td>\n",
       "      <td>45.779999</td>\n",
       "      <td>4618400</td>\n",
       "    </tr>\n",
       "    <tr>\n",
       "      <th>9</th>\n",
       "      <td>2024-04-05</td>\n",
       "      <td>45.680000</td>\n",
       "      <td>48.290001</td>\n",
       "      <td>44.680000</td>\n",
       "      <td>47.560001</td>\n",
       "      <td>47.560001</td>\n",
       "      <td>2927000</td>\n",
       "    </tr>\n",
       "  </tbody>\n",
       "</table>\n",
       "</div>"
      ],
      "text/plain": [
       "         Date       Open       High        Low      Close  Adj Close    Volume\n",
       "0  2024-03-22  48.880001  51.000000  45.340000  46.000000  46.000000  15936700\n",
       "1  2024-03-25  47.090000  61.939999  46.080002  59.799999  59.799999  24398800\n",
       "2  2024-03-26  67.709999  74.900002  63.209999  65.110001  65.110001  35331000\n",
       "3  2024-03-27  63.759998  63.759998  55.619999  57.750000  57.750000  18758300\n",
       "4  2024-03-28  54.520000  55.299999  49.099998  49.320000  49.320000  12608100\n",
       "5  2024-04-01  48.950001  49.279999  44.395000  45.970001  45.970001  12987900\n",
       "6  2024-04-02  45.055000  51.349998  44.000000  50.450001  50.450001   9442900\n",
       "7  2024-04-03  49.700001  51.240002  46.549999  46.990002  46.990002   4822900\n",
       "8  2024-04-04  46.700001  48.430000  45.099998  45.779999  45.779999   4618400\n",
       "9  2024-04-05  45.680000  48.290001  44.680000  47.560001  47.560001   2927000"
      ]
     },
     "execution_count": 3,
     "metadata": {},
     "output_type": "execute_result"
    }
   ],
   "source": [
    "df"
   ]
  },
  {
   "cell_type": "code",
   "execution_count": 4,
   "metadata": {},
   "outputs": [],
   "source": [
    "df = df.drop('Date',axis=1)"
   ]
  },
  {
   "cell_type": "code",
   "execution_count": 5,
   "metadata": {},
   "outputs": [
    {
     "data": {
      "text/html": [
       "<div>\n",
       "<style scoped>\n",
       "    .dataframe tbody tr th:only-of-type {\n",
       "        vertical-align: middle;\n",
       "    }\n",
       "\n",
       "    .dataframe tbody tr th {\n",
       "        vertical-align: top;\n",
       "    }\n",
       "\n",
       "    .dataframe thead th {\n",
       "        text-align: right;\n",
       "    }\n",
       "</style>\n",
       "<table border=\"1\" class=\"dataframe\">\n",
       "  <thead>\n",
       "    <tr style=\"text-align: right;\">\n",
       "      <th></th>\n",
       "      <th>Open</th>\n",
       "      <th>High</th>\n",
       "      <th>Low</th>\n",
       "      <th>Close</th>\n",
       "      <th>Adj Close</th>\n",
       "      <th>Volume</th>\n",
       "    </tr>\n",
       "  </thead>\n",
       "  <tbody>\n",
       "    <tr>\n",
       "      <th>0</th>\n",
       "      <td>48.880001</td>\n",
       "      <td>51.000000</td>\n",
       "      <td>45.340000</td>\n",
       "      <td>46.000000</td>\n",
       "      <td>46.000000</td>\n",
       "      <td>15936700</td>\n",
       "    </tr>\n",
       "    <tr>\n",
       "      <th>1</th>\n",
       "      <td>47.090000</td>\n",
       "      <td>61.939999</td>\n",
       "      <td>46.080002</td>\n",
       "      <td>59.799999</td>\n",
       "      <td>59.799999</td>\n",
       "      <td>24398800</td>\n",
       "    </tr>\n",
       "    <tr>\n",
       "      <th>2</th>\n",
       "      <td>67.709999</td>\n",
       "      <td>74.900002</td>\n",
       "      <td>63.209999</td>\n",
       "      <td>65.110001</td>\n",
       "      <td>65.110001</td>\n",
       "      <td>35331000</td>\n",
       "    </tr>\n",
       "    <tr>\n",
       "      <th>3</th>\n",
       "      <td>63.759998</td>\n",
       "      <td>63.759998</td>\n",
       "      <td>55.619999</td>\n",
       "      <td>57.750000</td>\n",
       "      <td>57.750000</td>\n",
       "      <td>18758300</td>\n",
       "    </tr>\n",
       "    <tr>\n",
       "      <th>4</th>\n",
       "      <td>54.520000</td>\n",
       "      <td>55.299999</td>\n",
       "      <td>49.099998</td>\n",
       "      <td>49.320000</td>\n",
       "      <td>49.320000</td>\n",
       "      <td>12608100</td>\n",
       "    </tr>\n",
       "    <tr>\n",
       "      <th>5</th>\n",
       "      <td>48.950001</td>\n",
       "      <td>49.279999</td>\n",
       "      <td>44.395000</td>\n",
       "      <td>45.970001</td>\n",
       "      <td>45.970001</td>\n",
       "      <td>12987900</td>\n",
       "    </tr>\n",
       "    <tr>\n",
       "      <th>6</th>\n",
       "      <td>45.055000</td>\n",
       "      <td>51.349998</td>\n",
       "      <td>44.000000</td>\n",
       "      <td>50.450001</td>\n",
       "      <td>50.450001</td>\n",
       "      <td>9442900</td>\n",
       "    </tr>\n",
       "    <tr>\n",
       "      <th>7</th>\n",
       "      <td>49.700001</td>\n",
       "      <td>51.240002</td>\n",
       "      <td>46.549999</td>\n",
       "      <td>46.990002</td>\n",
       "      <td>46.990002</td>\n",
       "      <td>4822900</td>\n",
       "    </tr>\n",
       "    <tr>\n",
       "      <th>8</th>\n",
       "      <td>46.700001</td>\n",
       "      <td>48.430000</td>\n",
       "      <td>45.099998</td>\n",
       "      <td>45.779999</td>\n",
       "      <td>45.779999</td>\n",
       "      <td>4618400</td>\n",
       "    </tr>\n",
       "    <tr>\n",
       "      <th>9</th>\n",
       "      <td>45.680000</td>\n",
       "      <td>48.290001</td>\n",
       "      <td>44.680000</td>\n",
       "      <td>47.560001</td>\n",
       "      <td>47.560001</td>\n",
       "      <td>2927000</td>\n",
       "    </tr>\n",
       "  </tbody>\n",
       "</table>\n",
       "</div>"
      ],
      "text/plain": [
       "        Open       High        Low      Close  Adj Close    Volume\n",
       "0  48.880001  51.000000  45.340000  46.000000  46.000000  15936700\n",
       "1  47.090000  61.939999  46.080002  59.799999  59.799999  24398800\n",
       "2  67.709999  74.900002  63.209999  65.110001  65.110001  35331000\n",
       "3  63.759998  63.759998  55.619999  57.750000  57.750000  18758300\n",
       "4  54.520000  55.299999  49.099998  49.320000  49.320000  12608100\n",
       "5  48.950001  49.279999  44.395000  45.970001  45.970001  12987900\n",
       "6  45.055000  51.349998  44.000000  50.450001  50.450001   9442900\n",
       "7  49.700001  51.240002  46.549999  46.990002  46.990002   4822900\n",
       "8  46.700001  48.430000  45.099998  45.779999  45.779999   4618400\n",
       "9  45.680000  48.290001  44.680000  47.560001  47.560001   2927000"
      ]
     },
     "execution_count": 5,
     "metadata": {},
     "output_type": "execute_result"
    }
   ],
   "source": [
    "df"
   ]
  },
  {
   "cell_type": "code",
   "execution_count": 6,
   "metadata": {},
   "outputs": [],
   "source": [
    "from sklearn.preprocessing import MinMaxScaler\n",
    "minmax = MinMaxScaler()"
   ]
  },
  {
   "cell_type": "code",
   "execution_count": 7,
   "metadata": {},
   "outputs": [
    {
     "data": {
      "text/plain": [
       "Index(['Open', 'High', 'Low', 'Close', 'Adj Close', 'Volume'], dtype='object')"
      ]
     },
     "execution_count": 7,
     "metadata": {},
     "output_type": "execute_result"
    }
   ],
   "source": [
    "df.columns"
   ]
  },
  {
   "cell_type": "code",
   "execution_count": 8,
   "metadata": {},
   "outputs": [],
   "source": [
    "N = minmax.fit_transform(df)"
   ]
  },
  {
   "cell_type": "code",
   "execution_count": 9,
   "metadata": {},
   "outputs": [],
   "source": [
    "df = pd.DataFrame(N,columns=['Open', 'High', 'Low', 'Close', 'Adj Close', 'Volume'])"
   ]
  },
  {
   "cell_type": "code",
   "execution_count": 10,
   "metadata": {},
   "outputs": [
    {
     "data": {
      "text/html": [
       "<div>\n",
       "<style scoped>\n",
       "    .dataframe tbody tr th:only-of-type {\n",
       "        vertical-align: middle;\n",
       "    }\n",
       "\n",
       "    .dataframe tbody tr th {\n",
       "        vertical-align: top;\n",
       "    }\n",
       "\n",
       "    .dataframe thead th {\n",
       "        text-align: right;\n",
       "    }\n",
       "</style>\n",
       "<table border=\"1\" class=\"dataframe\">\n",
       "  <thead>\n",
       "    <tr style=\"text-align: right;\">\n",
       "      <th></th>\n",
       "      <th>Open</th>\n",
       "      <th>High</th>\n",
       "      <th>Low</th>\n",
       "      <th>Close</th>\n",
       "      <th>Adj Close</th>\n",
       "      <th>Volume</th>\n",
       "    </tr>\n",
       "  </thead>\n",
       "  <tbody>\n",
       "    <tr>\n",
       "      <th>0</th>\n",
       "      <td>0.168837</td>\n",
       "      <td>0.101841</td>\n",
       "      <td>0.069755</td>\n",
       "      <td>0.011381</td>\n",
       "      <td>0.011381</td>\n",
       "      <td>0.401484</td>\n",
       "    </tr>\n",
       "    <tr>\n",
       "      <th>1</th>\n",
       "      <td>0.089826</td>\n",
       "      <td>0.512965</td>\n",
       "      <td>0.108277</td>\n",
       "      <td>0.725297</td>\n",
       "      <td>0.725297</td>\n",
       "      <td>0.662628</td>\n",
       "    </tr>\n",
       "    <tr>\n",
       "      <th>2</th>\n",
       "      <td>1.000000</td>\n",
       "      <td>1.000000</td>\n",
       "      <td>1.000000</td>\n",
       "      <td>1.000000</td>\n",
       "      <td>1.000000</td>\n",
       "      <td>1.000000</td>\n",
       "    </tr>\n",
       "    <tr>\n",
       "      <th>3</th>\n",
       "      <td>0.825646</td>\n",
       "      <td>0.581360</td>\n",
       "      <td>0.604893</td>\n",
       "      <td>0.619245</td>\n",
       "      <td>0.619245</td>\n",
       "      <td>0.488560</td>\n",
       "    </tr>\n",
       "    <tr>\n",
       "      <th>4</th>\n",
       "      <td>0.417789</td>\n",
       "      <td>0.263435</td>\n",
       "      <td>0.265487</td>\n",
       "      <td>0.183135</td>\n",
       "      <td>0.183135</td>\n",
       "      <td>0.298762</td>\n",
       "    </tr>\n",
       "    <tr>\n",
       "      <th>5</th>\n",
       "      <td>0.171927</td>\n",
       "      <td>0.037204</td>\n",
       "      <td>0.020562</td>\n",
       "      <td>0.009829</td>\n",
       "      <td>0.009829</td>\n",
       "      <td>0.310483</td>\n",
       "    </tr>\n",
       "    <tr>\n",
       "      <th>6</th>\n",
       "      <td>0.000000</td>\n",
       "      <td>0.114994</td>\n",
       "      <td>0.000000</td>\n",
       "      <td>0.241593</td>\n",
       "      <td>0.241593</td>\n",
       "      <td>0.201083</td>\n",
       "    </tr>\n",
       "    <tr>\n",
       "      <th>7</th>\n",
       "      <td>0.205032</td>\n",
       "      <td>0.110861</td>\n",
       "      <td>0.132743</td>\n",
       "      <td>0.062597</td>\n",
       "      <td>0.062597</td>\n",
       "      <td>0.058508</td>\n",
       "    </tr>\n",
       "    <tr>\n",
       "      <th>8</th>\n",
       "      <td>0.072611</td>\n",
       "      <td>0.005261</td>\n",
       "      <td>0.057262</td>\n",
       "      <td>0.000000</td>\n",
       "      <td>0.000000</td>\n",
       "      <td>0.052197</td>\n",
       "    </tr>\n",
       "    <tr>\n",
       "      <th>9</th>\n",
       "      <td>0.027588</td>\n",
       "      <td>0.000000</td>\n",
       "      <td>0.035398</td>\n",
       "      <td>0.092085</td>\n",
       "      <td>0.092085</td>\n",
       "      <td>0.000000</td>\n",
       "    </tr>\n",
       "  </tbody>\n",
       "</table>\n",
       "</div>"
      ],
      "text/plain": [
       "       Open      High       Low     Close  Adj Close    Volume\n",
       "0  0.168837  0.101841  0.069755  0.011381   0.011381  0.401484\n",
       "1  0.089826  0.512965  0.108277  0.725297   0.725297  0.662628\n",
       "2  1.000000  1.000000  1.000000  1.000000   1.000000  1.000000\n",
       "3  0.825646  0.581360  0.604893  0.619245   0.619245  0.488560\n",
       "4  0.417789  0.263435  0.265487  0.183135   0.183135  0.298762\n",
       "5  0.171927  0.037204  0.020562  0.009829   0.009829  0.310483\n",
       "6  0.000000  0.114994  0.000000  0.241593   0.241593  0.201083\n",
       "7  0.205032  0.110861  0.132743  0.062597   0.062597  0.058508\n",
       "8  0.072611  0.005261  0.057262  0.000000   0.000000  0.052197\n",
       "9  0.027588  0.000000  0.035398  0.092085   0.092085  0.000000"
      ]
     },
     "execution_count": 10,
     "metadata": {},
     "output_type": "execute_result"
    }
   ],
   "source": [
    "df"
   ]
  },
  {
   "cell_type": "markdown",
   "metadata": {},
   "source": [
    "# splitting and training"
   ]
  },
  {
   "cell_type": "code",
   "execution_count": 11,
   "metadata": {},
   "outputs": [],
   "source": [
    "from sklearn.model_selection import train_test_split"
   ]
  },
  {
   "cell_type": "code",
   "execution_count": 12,
   "metadata": {},
   "outputs": [],
   "source": [
    "x = df.drop('Close',axis=1)\n",
    "x1 = pd.DataFrame(x)\n",
    "y = df['Close']\n",
    "y1 = pd.DataFrame(y)"
   ]
  },
  {
   "cell_type": "code",
   "execution_count": 13,
   "metadata": {},
   "outputs": [],
   "source": [
    "x_train,x_test,y_train,y_test = train_test_split(x1,y1,test_size=0.2,random_state=42)"
   ]
  },
  {
   "cell_type": "code",
   "execution_count": 14,
   "metadata": {},
   "outputs": [
    {
     "data": {
      "text/plain": [
       "(8, 5)"
      ]
     },
     "execution_count": 14,
     "metadata": {},
     "output_type": "execute_result"
    }
   ],
   "source": [
    "x_train.shape"
   ]
  },
  {
   "cell_type": "markdown",
   "metadata": {},
   "source": [
    "# model building"
   ]
  },
  {
   "cell_type": "markdown",
   "metadata": {},
   "source": [
    "# Logistic Regression"
   ]
  },
  {
   "cell_type": "code",
   "execution_count": 15,
   "metadata": {},
   "outputs": [],
   "source": [
    "from sklearn.linear_model import LinearRegression\n",
    "lr =LinearRegression()"
   ]
  },
  {
   "cell_type": "code",
   "execution_count": 16,
   "metadata": {},
   "outputs": [],
   "source": [
    "modelLR = lr.fit(x_train,y_train)\n",
    "y_predLR = modelLR.predict(x_test)"
   ]
  },
  {
   "cell_type": "code",
   "execution_count": 18,
   "metadata": {},
   "outputs": [
    {
     "name": "stdout",
     "output_type": "stream",
     "text": [
      "the mean squared error of lr is : 3.175200172016141e-32\n"
     ]
    }
   ],
   "source": [
    "print(\"the mean squared error of lr is :\", mean_squared_error(y_test,y_predLR))"
   ]
  },
  {
   "cell_type": "code",
   "execution_count": 19,
   "metadata": {},
   "outputs": [
    {
     "name": "stdout",
     "output_type": "stream",
     "text": [
      "the r2score of lr is: 1.0\n"
     ]
    }
   ],
   "source": [
    "print(\"the r2score of lr is:\", r2_score(y_test,y_predLR))"
   ]
  },
  {
   "cell_type": "markdown",
   "metadata": {},
   "source": [
    "# Decision TRee"
   ]
  },
  {
   "cell_type": "code",
   "execution_count": 20,
   "metadata": {},
   "outputs": [],
   "source": [
    "from sklearn.tree import DecisionTreeRegressor\n",
    "DT = DecisionTreeRegressor()"
   ]
  },
  {
   "cell_type": "code",
   "execution_count": 21,
   "metadata": {},
   "outputs": [],
   "source": [
    "modelDT = DT.fit(x_train,y_train)\n",
    "y_predDT = modelDT.predict(x_test)"
   ]
  },
  {
   "cell_type": "code",
   "execution_count": 22,
   "metadata": {},
   "outputs": [
    {
     "name": "stdout",
     "output_type": "stream",
     "text": [
      "the r2 score of Decision tree is: 0.9250011128869976\n"
     ]
    }
   ],
   "source": [
    "print(\"the r2 score of Decision tree is:\", r2_score(y_test,y_predDT))"
   ]
  },
  {
   "cell_type": "markdown",
   "metadata": {},
   "source": [
    "# KNN"
   ]
  },
  {
   "cell_type": "code",
   "execution_count": 25,
   "metadata": {},
   "outputs": [],
   "source": [
    "from sklearn.neighbors import KNeighborsRegressor\n",
    "\n",
    "metric_k = []\n",
    "neighbors = np.arange(3,8)\n",
    "\n",
    "\n",
    "for k in neighbors:\n",
    "    knn = KNeighborsRegressor(n_neighbors=k)\n",
    "    modelknn = knn.fit(x_train,y_train)\n",
    "    y_predknn = modelknn.predict(x_test)\n",
    "    acc = r2_score(y_test,y_predknn)\n",
    "    metric_k.append(acc)"
   ]
  },
  {
   "cell_type": "code",
   "execution_count": 26,
   "metadata": {},
   "outputs": [
    {
     "data": {
      "text/plain": [
       "[<matplotlib.lines.Line2D at 0x1a3f98703d0>]"
      ]
     },
     "execution_count": 26,
     "metadata": {},
     "output_type": "execute_result"
    },
    {
     "data": {
      "image/png": "[encoded data removed]",
      "text/plain": [
       "<Figure size 640x480 with 1 Axes>"
      ]
     },
     "metadata": {},
     "output_type": "display_data"
    }
   ],
   "source": [
    "plt.plot(neighbors,metric_k)"
   ]
  },
  {
   "cell_type": "code",
   "execution_count": 27,
   "metadata": {},
   "outputs": [],
   "source": [
    "# k = 4\n",
    "\n",
    "knn = KNeighborsRegressor(n_neighbors=4)\n",
    "modelknn = knn.fit(x_train,y_train)\n",
    "y_predknn = modelknn.predict(x_test)\n"
   ]
  },
  {
   "cell_type": "code",
   "execution_count": 28,
   "metadata": {},
   "outputs": [
    {
     "name": "stdout",
     "output_type": "stream",
     "text": [
      "the r2score of knn is : 0.1512248155530982\n"
     ]
    }
   ],
   "source": [
    "print(\"the r2score of knn is :\", r2_score(y_test,y_predknn))"
   ]
  },
  {
   "cell_type": "markdown",
   "metadata": {},
   "source": [
    "# xgboost "
   ]
  },
  {
   "cell_type": "code",
   "execution_count": 29,
   "metadata": {},
   "outputs": [],
   "source": [
    "from xgboost import XGBRegressor\n",
    "XGB = XGBRegressor()"
   ]
  },
  {
   "cell_type": "code",
   "execution_count": 30,
   "metadata": {},
   "outputs": [],
   "source": [
    "modelXGB = XGB.fit(x_train,y_train)\n",
    "y_predXGB = modelXGB.predict(x_test)"
   ]
  },
  {
   "cell_type": "code",
   "execution_count": 31,
   "metadata": {},
   "outputs": [
    {
     "name": "stdout",
     "output_type": "stream",
     "text": [
      "the r2score of xgboost is: -0.11346854639397264\n"
     ]
    }
   ],
   "source": [
    "print(\"the r2score of xgboost is:\", r2_score(y_test,y_predXGB))"
   ]
  },
  {
   "cell_type": "markdown",
   "metadata": {},
   "source": [
    "# performance analysis"
   ]
  },
  {
   "cell_type": "code",
   "execution_count": 33,
   "metadata": {},
   "outputs": [
    {
     "data": {
      "text/plain": [
       "[0.9250011128869976, 0.1512248155530982, -0.11346854639397264, 1.0]"
      ]
     },
     "execution_count": 33,
     "metadata": {},
     "output_type": "execute_result"
    }
   ],
   "source": [
    "pt = []\n",
    "\n",
    "for i in [y_predDT,y_predknn,y_predXGB,y_predLR]:\n",
    "    pt.append(r2_score(y_test,i))\n",
    "pt"
   ]
  },
  {
   "cell_type": "markdown",
   "metadata": {},
   "source": [
    "# prediction"
   ]
  },
  {
   "cell_type": "code",
   "execution_count": 34,
   "metadata": {},
   "outputs": [
    {
     "data": {
      "text/html": [
       "<div>\n",
       "<style scoped>\n",
       "    .dataframe tbody tr th:only-of-type {\n",
       "        vertical-align: middle;\n",
       "    }\n",
       "\n",
       "    .dataframe tbody tr th {\n",
       "        vertical-align: top;\n",
       "    }\n",
       "\n",
       "    .dataframe thead th {\n",
       "        text-align: right;\n",
       "    }\n",
       "</style>\n",
       "<table border=\"1\" class=\"dataframe\">\n",
       "  <thead>\n",
       "    <tr style=\"text-align: right;\">\n",
       "      <th></th>\n",
       "      <th>Open</th>\n",
       "      <th>High</th>\n",
       "      <th>Low</th>\n",
       "      <th>Adj Close</th>\n",
       "      <th>Volume</th>\n",
       "    </tr>\n",
       "  </thead>\n",
       "  <tbody>\n",
       "    <tr>\n",
       "      <th>0</th>\n",
       "      <td>0.168837</td>\n",
       "      <td>0.101841</td>\n",
       "      <td>0.069755</td>\n",
       "      <td>0.011381</td>\n",
       "      <td>0.401484</td>\n",
       "    </tr>\n",
       "    <tr>\n",
       "      <th>1</th>\n",
       "      <td>0.089826</td>\n",
       "      <td>0.512965</td>\n",
       "      <td>0.108277</td>\n",
       "      <td>0.725297</td>\n",
       "      <td>0.662628</td>\n",
       "    </tr>\n",
       "    <tr>\n",
       "      <th>2</th>\n",
       "      <td>1.000000</td>\n",
       "      <td>1.000000</td>\n",
       "      <td>1.000000</td>\n",
       "      <td>1.000000</td>\n",
       "      <td>1.000000</td>\n",
       "    </tr>\n",
       "    <tr>\n",
       "      <th>3</th>\n",
       "      <td>0.825646</td>\n",
       "      <td>0.581360</td>\n",
       "      <td>0.604893</td>\n",
       "      <td>0.619245</td>\n",
       "      <td>0.488560</td>\n",
       "    </tr>\n",
       "    <tr>\n",
       "      <th>4</th>\n",
       "      <td>0.417789</td>\n",
       "      <td>0.263435</td>\n",
       "      <td>0.265487</td>\n",
       "      <td>0.183135</td>\n",
       "      <td>0.298762</td>\n",
       "    </tr>\n",
       "  </tbody>\n",
       "</table>\n",
       "</div>"
      ],
      "text/plain": [
       "       Open      High       Low  Adj Close    Volume\n",
       "0  0.168837  0.101841  0.069755   0.011381  0.401484\n",
       "1  0.089826  0.512965  0.108277   0.725297  0.662628\n",
       "2  1.000000  1.000000  1.000000   1.000000  1.000000\n",
       "3  0.825646  0.581360  0.604893   0.619245  0.488560\n",
       "4  0.417789  0.263435  0.265487   0.183135  0.298762"
      ]
     },
     "execution_count": 34,
     "metadata": {},
     "output_type": "execute_result"
    }
   ],
   "source": [
    "x1.head()"
   ]
  },
  {
   "cell_type": "code",
   "execution_count": 35,
   "metadata": {},
   "outputs": [
    {
     "name": "stderr",
     "output_type": "stream",
     "text": [
      "c:\\Users\\dell\\anaconda3\\Lib\\site-packages\\sklearn\\base.py:464: UserWarning: X does not have valid feature names, but LinearRegression was fitted with feature names\n",
      "  warnings.warn(\n"
     ]
    },
    {
     "data": {
      "text/plain": [
       "array([[0.011381]])"
      ]
     },
     "execution_count": 35,
     "metadata": {},
     "output_type": "execute_result"
    }
   ],
   "source": [
    "modelLR.predict([[0.168837\t,0.101841\t,0.069755\t,0.011381\t,0.401484]])"
   ]
  },
  {
   "cell_type": "code",
   "execution_count": 39,
   "metadata": {},
   "outputs": [
    {
     "name": "stderr",
     "output_type": "stream",
     "text": [
      "c:\\Users\\dell\\anaconda3\\Lib\\site-packages\\sklearn\\base.py:464: UserWarning: X does not have valid feature names, but LinearRegression was fitted with feature names\n",
      "  warnings.warn(\n"
     ]
    },
    {
     "data": {
      "text/plain": [
       "array([[0.183135]])"
      ]
     },
     "execution_count": 39,
     "metadata": {},
     "output_type": "execute_result"
    }
   ],
   "source": [
    "modelLR.predict([[0.417789\t,0.263435\t,0.265487\t,0.183135\t,0.298762]])"
   ]
  },
  {
   "cell_type": "code",
   "execution_count": 40,
   "metadata": {},
   "outputs": [
    {
     "name": "stderr",
     "output_type": "stream",
     "text": [
      "c:\\Users\\dell\\anaconda3\\Lib\\site-packages\\sklearn\\base.py:464: UserWarning: X does not have valid feature names, but LinearRegression was fitted with feature names\n",
      "  warnings.warn(\n"
     ]
    },
    {
     "data": {
      "text/plain": [
       "array([[1.]])"
      ]
     },
     "execution_count": 40,
     "metadata": {},
     "output_type": "execute_result"
    }
   ],
   "source": [
    "modelLR.predict([[1.000000\t,1.000000\t,1.000000\t,1.000000\t,1.000000]])"
   ]
  },
  {
   "cell_type": "code",
   "execution_count": 42,
   "metadata": {},
   "outputs": [
    {
     "name": "stdout",
     "output_type": "stream",
     "text": [
      "Day 1 Prediction: [[0.36835244]]\n",
      "Day 2 Prediction: [[0.5776698]]\n",
      "Day 3 Prediction: [[0.23696168]]\n",
      "Day 4 Prediction: [[1.14916198]]\n",
      "Day 5 Prediction: [[1.22917939]]\n",
      "Day 6 Prediction: [[1.04686857]]\n",
      "Day 7 Prediction: [[0.3251279]]\n",
      "Day 8 Prediction: [[1.32146768]]\n",
      "Day 9 Prediction: [[0.89151306]]\n",
      "Day 10 Prediction: [[1.30788796]]\n",
      "Day 11 Prediction: [[0.0300782]]\n",
      "Day 12 Prediction: [[0.54788585]]\n",
      "Day 13 Prediction: [[1.14440889]]\n",
      "Day 14 Prediction: [[0.40318069]]\n",
      "Day 15 Prediction: [[1.40877837]]\n",
      "Day 16 Prediction: [[1.44685172]]\n",
      "Day 17 Prediction: [[0.98909195]]\n",
      "Day 18 Prediction: [[0.34038473]]\n",
      "Day 19 Prediction: [[0.49678006]]\n",
      "Day 20 Prediction: [[0.03824695]]\n",
      "Day 21 Prediction: [[0.54865638]]\n",
      "Day 22 Prediction: [[1.3503977]]\n",
      "Day 23 Prediction: [[0.9428573]]\n",
      "Day 24 Prediction: [[0.35136962]]\n",
      "Day 25 Prediction: [[0.23256605]]\n",
      "Day 26 Prediction: [[0.40422664]]\n",
      "Day 27 Prediction: [[0.09882835]]\n",
      "Day 28 Prediction: [[0.923808]]\n",
      "Day 29 Prediction: [[0.17104907]]\n",
      "Day 30 Prediction: [[1.17246429]]\n"
     ]
    },
    {
     "name": "stderr",
     "output_type": "stream",
     "text": [
      "c:\\Users\\dell\\anaconda3\\Lib\\site-packages\\sklearn\\base.py:464: UserWarning: X does not have valid feature names, but LinearRegression was fitted with feature names\n",
      "  warnings.warn(\n",
      "c:\\Users\\dell\\anaconda3\\Lib\\site-packages\\sklearn\\base.py:464: UserWarning: X does not have valid feature names, but LinearRegression was fitted with feature names\n",
      "  warnings.warn(\n",
      "c:\\Users\\dell\\anaconda3\\Lib\\site-packages\\sklearn\\base.py:464: UserWarning: X does not have valid feature names, but LinearRegression was fitted with feature names\n",
      "  warnings.warn(\n",
      "c:\\Users\\dell\\anaconda3\\Lib\\site-packages\\sklearn\\base.py:464: UserWarning: X does not have valid feature names, but LinearRegression was fitted with feature names\n",
      "  warnings.warn(\n",
      "c:\\Users\\dell\\anaconda3\\Lib\\site-packages\\sklearn\\base.py:464: UserWarning: X does not have valid feature names, but LinearRegression was fitted with feature names\n",
      "  warnings.warn(\n",
      "c:\\Users\\dell\\anaconda3\\Lib\\site-packages\\sklearn\\base.py:464: UserWarning: X does not have valid feature names, but LinearRegression was fitted with feature names\n",
      "  warnings.warn(\n",
      "c:\\Users\\dell\\anaconda3\\Lib\\site-packages\\sklearn\\base.py:464: UserWarning: X does not have valid feature names, but LinearRegression was fitted with feature names\n",
      "  warnings.warn(\n",
      "c:\\Users\\dell\\anaconda3\\Lib\\site-packages\\sklearn\\base.py:464: UserWarning: X does not have valid feature names, but LinearRegression was fitted with feature names\n",
      "  warnings.warn(\n",
      "c:\\Users\\dell\\anaconda3\\Lib\\site-packages\\sklearn\\base.py:464: UserWarning: X does not have valid feature names, but LinearRegression was fitted with feature names\n",
      "  warnings.warn(\n",
      "c:\\Users\\dell\\anaconda3\\Lib\\site-packages\\sklearn\\base.py:464: UserWarning: X does not have valid feature names, but LinearRegression was fitted with feature names\n",
      "  warnings.warn(\n",
      "c:\\Users\\dell\\anaconda3\\Lib\\site-packages\\sklearn\\base.py:464: UserWarning: X does not have valid feature names, but LinearRegression was fitted with feature names\n",
      "  warnings.warn(\n",
      "c:\\Users\\dell\\anaconda3\\Lib\\site-packages\\sklearn\\base.py:464: UserWarning: X does not have valid feature names, but LinearRegression was fitted with feature names\n",
      "  warnings.warn(\n",
      "c:\\Users\\dell\\anaconda3\\Lib\\site-packages\\sklearn\\base.py:464: UserWarning: X does not have valid feature names, but LinearRegression was fitted with feature names\n",
      "  warnings.warn(\n",
      "c:\\Users\\dell\\anaconda3\\Lib\\site-packages\\sklearn\\base.py:464: UserWarning: X does not have valid feature names, but LinearRegression was fitted with feature names\n",
      "  warnings.warn(\n",
      "c:\\Users\\dell\\anaconda3\\Lib\\site-packages\\sklearn\\base.py:464: UserWarning: X does not have valid feature names, but LinearRegression was fitted with feature names\n",
      "  warnings.warn(\n",
      "c:\\Users\\dell\\anaconda3\\Lib\\site-packages\\sklearn\\base.py:464: UserWarning: X does not have valid feature names, but LinearRegression was fitted with feature names\n",
      "  warnings.warn(\n",
      "c:\\Users\\dell\\anaconda3\\Lib\\site-packages\\sklearn\\base.py:464: UserWarning: X does not have valid feature names, but LinearRegression was fitted with feature names\n",
      "  warnings.warn(\n",
      "c:\\Users\\dell\\anaconda3\\Lib\\site-packages\\sklearn\\base.py:464: UserWarning: X does not have valid feature names, but LinearRegression was fitted with feature names\n",
      "  warnings.warn(\n",
      "c:\\Users\\dell\\anaconda3\\Lib\\site-packages\\sklearn\\base.py:464: UserWarning: X does not have valid feature names, but LinearRegression was fitted with feature names\n",
      "  warnings.warn(\n",
      "c:\\Users\\dell\\anaconda3\\Lib\\site-packages\\sklearn\\base.py:464: UserWarning: X does not have valid feature names, but LinearRegression was fitted with feature names\n",
      "  warnings.warn(\n",
      "c:\\Users\\dell\\anaconda3\\Lib\\site-packages\\sklearn\\base.py:464: UserWarning: X does not have valid feature names, but LinearRegression was fitted with feature names\n",
      "  warnings.warn(\n",
      "c:\\Users\\dell\\anaconda3\\Lib\\site-packages\\sklearn\\base.py:464: UserWarning: X does not have valid feature names, but LinearRegression was fitted with feature names\n",
      "  warnings.warn(\n",
      "c:\\Users\\dell\\anaconda3\\Lib\\site-packages\\sklearn\\base.py:464: UserWarning: X does not have valid feature names, but LinearRegression was fitted with feature names\n",
      "  warnings.warn(\n",
      "c:\\Users\\dell\\anaconda3\\Lib\\site-packages\\sklearn\\base.py:464: UserWarning: X does not have valid feature names, but LinearRegression was fitted with feature names\n",
      "  warnings.warn(\n",
      "c:\\Users\\dell\\anaconda3\\Lib\\site-packages\\sklearn\\base.py:464: UserWarning: X does not have valid feature names, but LinearRegression was fitted with feature names\n",
      "  warnings.warn(\n",
      "c:\\Users\\dell\\anaconda3\\Lib\\site-packages\\sklearn\\base.py:464: UserWarning: X does not have valid feature names, but LinearRegression was fitted with feature names\n",
      "  warnings.warn(\n",
      "c:\\Users\\dell\\anaconda3\\Lib\\site-packages\\sklearn\\base.py:464: UserWarning: X does not have valid feature names, but LinearRegression was fitted with feature names\n",
      "  warnings.warn(\n",
      "c:\\Users\\dell\\anaconda3\\Lib\\site-packages\\sklearn\\base.py:464: UserWarning: X does not have valid feature names, but LinearRegression was fitted with feature names\n",
      "  warnings.warn(\n",
      "c:\\Users\\dell\\anaconda3\\Lib\\site-packages\\sklearn\\base.py:464: UserWarning: X does not have valid feature names, but LinearRegression was fitted with feature names\n",
      "  warnings.warn(\n",
      "c:\\Users\\dell\\anaconda3\\Lib\\site-packages\\sklearn\\base.py:464: UserWarning: X does not have valid feature names, but LinearRegression was fitted with feature names\n",
      "  warnings.warn(\n"
     ]
    }
   ],
   "source": [
    "import numpy as np\n",
    "\n",
    "# Generate random data for 30 days\n",
    "random_data = np.random.rand(30, 5)\n",
    "\n",
    "scaling_factors = [1.5, 2.0, 1.0, 1.5, 0.5]  # Adjusted based on the provided dataset\n",
    "\n",
    "# Scale the random data\n",
    "scaled_data = random_data * scaling_factors\n",
    "\n",
    "# Perform prediction for each day\n",
    "for i in range(len(scaled_data)):\n",
    "    prediction = modelLR.predict([scaled_data[i]])\n",
    "    print(f\"Day {i+1} Prediction:\", prediction)\n"
   ]
  },
  {
   "cell_type": "markdown",
   "metadata": {},
   "source": [
    "# Machine Learning Project Conclusion\n",
    "\n",
    "## Overview\n",
    "\n",
    "In this project, the primary objective was to predict the closing prices of stocks, focusing particularly on forecasting the closing price for the next 30 days. Leveraging the power of linear regression, the model achieved an exceptional R2 score of around 1.0, indicating an unparalleled level of accuracy in its predictions.\n",
    "\n",
    "## Skills Acquired\n",
    "\n",
    "Throughout the project journey, a myriad of skills were not only refined but also mastered. A profound comprehension of machine learning concepts, especially regression techniques, was garnered. This encompassed the intricacies of data preprocessing, feature engineering, meticulous model selection, and comprehensive evaluation. Moreover, fluency in programming languages such as Python, coupled with proficiency in libraries like scikit-learn for machine learning tasks, was honed to a fine edge.\n",
    "\n",
    "## Importance of Data Analysis and Visualization\n",
    "\n",
    "The project underscored the pivotal role played by data analysis and visualization in deciphering the underlying patterns and trends in stock price data. Through adept utilization of exploratory data analysis techniques, profound insights were gleaned from the dataset, facilitating well-informed decisions during both model construction and validation phases.\n",
    "\n",
    "## Emphasis on Continuous Learning and Adaptation\n",
    "\n",
    "Furthermore, the project served as a testament to the significance of perpetual learning and adaptability in the realm of machine learning. Rigorous experimentation with diverse models, feature sets, and hyperparameters proved instrumental in not only enhancing model performance but also in unraveling the complexities inherent in stock price prediction.\n",
    "\n",
    "## Conclusion\n",
    "\n",
    "In essence, this project transcends mere application; it embodies a transformative journey, fostering a holistic skill set encompassing data analysis, model evaluation, and problem-solving. It stands as a testament to the potential of machine learning in navigating the intricate landscape of financial markets, propelling forward the frontier of data science and machine learning.\n"
   ]
  },
  {
   "cell_type": "markdown",
   "metadata": {},
   "source": []
  }
 ],
 "metadata": {
  "kernelspec": {
   "display_name": "base",
   "language": "python",
   "name": "python3"
  },
  "language_info": {
   "codemirror_mode": {
    "name": "ipython",
    "version": 3
   },
   "file_extension": ".py",
   "mimetype": "text/x-python",
   "name": "python",
   "nbconvert_exporter": "python",
   "pygments_lexer": "ipython3",
   "version": "3.11.5"
  }
 },
 "nbformat": 4,
 "nbformat_minor": 2
}
